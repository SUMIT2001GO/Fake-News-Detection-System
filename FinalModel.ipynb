{
 "cells": [
  {
   "cell_type": "code",
   "execution_count": 25,
   "id": "350b072b-6e76-43ba-9e0e-a701cf420522",
   "metadata": {},
   "outputs": [],
   "source": [
    "import pandas as pd\n",
    "import numpy as np "
   ]
  },
  {
   "cell_type": "code",
   "execution_count": 27,
   "id": "b742b5ae-9885-4af3-931b-d80b386c852e",
   "metadata": {},
   "outputs": [],
   "source": [
    "true = pd.read_csv('True.csv')\n",
    "fake = pd.read_csv('Fake.csv')"
   ]
  },
  {
   "cell_type": "code",
   "execution_count": 29,
   "id": "597f5ebc-c2b3-442f-a42f-52e88542587d",
   "metadata": {},
   "outputs": [],
   "source": [
    "true['label'] = 1\n",
    "fake['label'] = 0"
   ]
  },
  {
   "cell_type": "code",
   "execution_count": 31,
   "id": "49c4c1d1-5bea-4584-b901-8d4ddfc7df0b",
   "metadata": {},
   "outputs": [],
   "source": [
    "news = pd.concat([fake, true], axis = 0)"
   ]
  },
  {
   "cell_type": "code",
   "execution_count": 33,
   "id": "6a816dc8-49ad-4f96-b294-f90cc7f99d2b",
   "metadata": {},
   "outputs": [
    {
     "data": {
      "text/plain": [
       "title      0\n",
       "text       0\n",
       "subject    0\n",
       "date       0\n",
       "label      0\n",
       "dtype: int64"
      ]
     },
     "execution_count": 33,
     "metadata": {},
     "output_type": "execute_result"
    }
   ],
   "source": [
    "news.isnull().sum()"
   ]
  },
  {
   "cell_type": "code",
   "execution_count": 39,
   "id": "80bb8a28-1824-4f94-95fb-afd74f91345f",
   "metadata": {},
   "outputs": [],
   "source": [
    "news = news.drop(['title', 'subject', 'date'],axis = 1)"
   ]
  },
  {
   "cell_type": "code",
   "execution_count": 45,
   "id": "311ca4ef-dea0-4119-9c43-01bb739965f0",
   "metadata": {},
   "outputs": [],
   "source": [
    "news = news.sample(frac = 1)"
   ]
  },
  {
   "cell_type": "code",
   "execution_count": 47,
   "id": "83eaf827-5e0f-434e-bcb1-c278f2595ac4",
   "metadata": {},
   "outputs": [
    {
     "data": {
      "text/html": [
       "<div>\n",
       "<style scoped>\n",
       "    .dataframe tbody tr th:only-of-type {\n",
       "        vertical-align: middle;\n",
       "    }\n",
       "\n",
       "    .dataframe tbody tr th {\n",
       "        vertical-align: top;\n",
       "    }\n",
       "\n",
       "    .dataframe thead th {\n",
       "        text-align: right;\n",
       "    }\n",
       "</style>\n",
       "<table border=\"1\" class=\"dataframe\">\n",
       "  <thead>\n",
       "    <tr style=\"text-align: right;\">\n",
       "      <th></th>\n",
       "      <th>text</th>\n",
       "      <th>label</th>\n",
       "    </tr>\n",
       "  </thead>\n",
       "  <tbody>\n",
       "    <tr>\n",
       "      <th>17515</th>\n",
       "      <td>VIENNA (Reuters) - The chief of the U.N. atomi...</td>\n",
       "      <td>1</td>\n",
       "    </tr>\n",
       "    <tr>\n",
       "      <th>22043</th>\n",
       "      <td>21st Century Wire says It s been confirmed tha...</td>\n",
       "      <td>0</td>\n",
       "    </tr>\n",
       "    <tr>\n",
       "      <th>13221</th>\n",
       "      <td>LONDON (Reuters) - Britain s Brexit minister D...</td>\n",
       "      <td>1</td>\n",
       "    </tr>\n",
       "    <tr>\n",
       "      <th>6063</th>\n",
       "      <td>Fox News, Donald Trump, and the rest of the ha...</td>\n",
       "      <td>0</td>\n",
       "    </tr>\n",
       "    <tr>\n",
       "      <th>19841</th>\n",
       "      <td>JAKARTA (Reuters) - Students at an Islamic sch...</td>\n",
       "      <td>1</td>\n",
       "    </tr>\n",
       "  </tbody>\n",
       "</table>\n",
       "</div>"
      ],
      "text/plain": [
       "                                                    text  label\n",
       "17515  VIENNA (Reuters) - The chief of the U.N. atomi...      1\n",
       "22043  21st Century Wire says It s been confirmed tha...      0\n",
       "13221  LONDON (Reuters) - Britain s Brexit minister D...      1\n",
       "6063   Fox News, Donald Trump, and the rest of the ha...      0\n",
       "19841  JAKARTA (Reuters) - Students at an Islamic sch...      1"
      ]
     },
     "execution_count": 47,
     "metadata": {},
     "output_type": "execute_result"
    }
   ],
   "source": [
    "news.head()"
   ]
  },
  {
   "cell_type": "code",
   "execution_count": 49,
   "id": "1dd8afed-2868-42f6-ad22-3dba8f0b3414",
   "metadata": {},
   "outputs": [],
   "source": [
    "news.reset_index(inplace = True)"
   ]
  },
  {
   "cell_type": "code",
   "execution_count": 51,
   "id": "bed74574-85e7-41b8-878d-917d2e912b32",
   "metadata": {},
   "outputs": [
    {
     "data": {
      "text/html": [
       "<div>\n",
       "<style scoped>\n",
       "    .dataframe tbody tr th:only-of-type {\n",
       "        vertical-align: middle;\n",
       "    }\n",
       "\n",
       "    .dataframe tbody tr th {\n",
       "        vertical-align: top;\n",
       "    }\n",
       "\n",
       "    .dataframe thead th {\n",
       "        text-align: right;\n",
       "    }\n",
       "</style>\n",
       "<table border=\"1\" class=\"dataframe\">\n",
       "  <thead>\n",
       "    <tr style=\"text-align: right;\">\n",
       "      <th></th>\n",
       "      <th>index</th>\n",
       "      <th>text</th>\n",
       "      <th>label</th>\n",
       "    </tr>\n",
       "  </thead>\n",
       "  <tbody>\n",
       "    <tr>\n",
       "      <th>0</th>\n",
       "      <td>17515</td>\n",
       "      <td>VIENNA (Reuters) - The chief of the U.N. atomi...</td>\n",
       "      <td>1</td>\n",
       "    </tr>\n",
       "    <tr>\n",
       "      <th>1</th>\n",
       "      <td>22043</td>\n",
       "      <td>21st Century Wire says It s been confirmed tha...</td>\n",
       "      <td>0</td>\n",
       "    </tr>\n",
       "    <tr>\n",
       "      <th>2</th>\n",
       "      <td>13221</td>\n",
       "      <td>LONDON (Reuters) - Britain s Brexit minister D...</td>\n",
       "      <td>1</td>\n",
       "    </tr>\n",
       "    <tr>\n",
       "      <th>3</th>\n",
       "      <td>6063</td>\n",
       "      <td>Fox News, Donald Trump, and the rest of the ha...</td>\n",
       "      <td>0</td>\n",
       "    </tr>\n",
       "    <tr>\n",
       "      <th>4</th>\n",
       "      <td>19841</td>\n",
       "      <td>JAKARTA (Reuters) - Students at an Islamic sch...</td>\n",
       "      <td>1</td>\n",
       "    </tr>\n",
       "  </tbody>\n",
       "</table>\n",
       "</div>"
      ],
      "text/plain": [
       "   index                                               text  label\n",
       "0  17515  VIENNA (Reuters) - The chief of the U.N. atomi...      1\n",
       "1  22043  21st Century Wire says It s been confirmed tha...      0\n",
       "2  13221  LONDON (Reuters) - Britain s Brexit minister D...      1\n",
       "3   6063  Fox News, Donald Trump, and the rest of the ha...      0\n",
       "4  19841  JAKARTA (Reuters) - Students at an Islamic sch...      1"
      ]
     },
     "execution_count": 51,
     "metadata": {},
     "output_type": "execute_result"
    }
   ],
   "source": [
    "news.head()"
   ]
  },
  {
   "cell_type": "code",
   "execution_count": 55,
   "id": "a5b41d39-ffb4-415c-8960-a12e5582cd39",
   "metadata": {},
   "outputs": [],
   "source": [
    "news.drop(['index'],axis = 1, inplace = True)"
   ]
  },
  {
   "cell_type": "code",
   "execution_count": 57,
   "id": "99afa94c-ae3e-4c98-83ba-519ccf25720c",
   "metadata": {},
   "outputs": [
    {
     "data": {
      "text/html": [
       "<div>\n",
       "<style scoped>\n",
       "    .dataframe tbody tr th:only-of-type {\n",
       "        vertical-align: middle;\n",
       "    }\n",
       "\n",
       "    .dataframe tbody tr th {\n",
       "        vertical-align: top;\n",
       "    }\n",
       "\n",
       "    .dataframe thead th {\n",
       "        text-align: right;\n",
       "    }\n",
       "</style>\n",
       "<table border=\"1\" class=\"dataframe\">\n",
       "  <thead>\n",
       "    <tr style=\"text-align: right;\">\n",
       "      <th></th>\n",
       "      <th>text</th>\n",
       "      <th>label</th>\n",
       "    </tr>\n",
       "  </thead>\n",
       "  <tbody>\n",
       "    <tr>\n",
       "      <th>0</th>\n",
       "      <td>VIENNA (Reuters) - The chief of the U.N. atomi...</td>\n",
       "      <td>1</td>\n",
       "    </tr>\n",
       "    <tr>\n",
       "      <th>1</th>\n",
       "      <td>21st Century Wire says It s been confirmed tha...</td>\n",
       "      <td>0</td>\n",
       "    </tr>\n",
       "    <tr>\n",
       "      <th>2</th>\n",
       "      <td>LONDON (Reuters) - Britain s Brexit minister D...</td>\n",
       "      <td>1</td>\n",
       "    </tr>\n",
       "    <tr>\n",
       "      <th>3</th>\n",
       "      <td>Fox News, Donald Trump, and the rest of the ha...</td>\n",
       "      <td>0</td>\n",
       "    </tr>\n",
       "    <tr>\n",
       "      <th>4</th>\n",
       "      <td>JAKARTA (Reuters) - Students at an Islamic sch...</td>\n",
       "      <td>1</td>\n",
       "    </tr>\n",
       "  </tbody>\n",
       "</table>\n",
       "</div>"
      ],
      "text/plain": [
       "                                                text  label\n",
       "0  VIENNA (Reuters) - The chief of the U.N. atomi...      1\n",
       "1  21st Century Wire says It s been confirmed tha...      0\n",
       "2  LONDON (Reuters) - Britain s Brexit minister D...      1\n",
       "3  Fox News, Donald Trump, and the rest of the ha...      0\n",
       "4  JAKARTA (Reuters) - Students at an Islamic sch...      1"
      ]
     },
     "execution_count": 57,
     "metadata": {},
     "output_type": "execute_result"
    }
   ],
   "source": [
    "news.head()"
   ]
  },
  {
   "cell_type": "code",
   "execution_count": 59,
   "id": "73972cdc-ead0-430e-bc80-5323a1802af9",
   "metadata": {},
   "outputs": [],
   "source": [
    "import re "
   ]
  },
  {
   "cell_type": "code",
   "execution_count": 63,
   "id": "a34047a4-f983-45e8-9b51-2078e172373c",
   "metadata": {},
   "outputs": [],
   "source": [
    "def wordopt(text):\n",
    "    text = text.lower()\n",
    "    text = re.sub(r'https?://\\S+|www\\.\\S+','', text)\n",
    "    text = re.sub(r'<.*?', '', text)\n",
    "    text = re.sub(r'[^\\w\\s]', '', text)\n",
    "    text = re.sub(r'\\d', '', text)\n",
    "    text = re.sub(r'\\n', ' ', text)\n",
    "    return text"
   ]
  },
  {
   "cell_type": "code",
   "execution_count": 67,
   "id": "7aeae026-8637-4454-8d69-b93a6e55148b",
   "metadata": {},
   "outputs": [],
   "source": [
    "news['text'] = news['text'].apply(wordopt)"
   ]
  },
  {
   "cell_type": "code",
   "execution_count": 69,
   "id": "02d055e0-c2c9-4c4f-898d-da48b4e46662",
   "metadata": {},
   "outputs": [
    {
     "data": {
      "text/plain": [
       "0        vienna reuters  the chief of the un atomic wat...\n",
       "1        st century wire says it s been confirmed that ...\n",
       "2        london reuters  britain s brexit minister davi...\n",
       "3        fox news donald trump and the rest of the half...\n",
       "4        jakarta reuters  students at an islamic school...\n",
       "                               ...                        \n",
       "44893    ottawa reuters  the united states sees no urge...\n",
       "44894    washington reuters  us senate republican leade...\n",
       "44895    dunkin  donuts is an american global donut com...\n",
       "44896    if there s one presidential candidate who is t...\n",
       "44897    paris reuters  france s air accident investiga...\n",
       "Name: text, Length: 44898, dtype: object"
      ]
     },
     "execution_count": 69,
     "metadata": {},
     "output_type": "execute_result"
    }
   ],
   "source": [
    "news['text']"
   ]
  },
  {
   "cell_type": "code",
   "execution_count": 71,
   "id": "8068be8b-f6de-4e8a-8d68-5d48b8758121",
   "metadata": {},
   "outputs": [],
   "source": [
    "x = news['text']\n",
    "y = news['label']"
   ]
  },
  {
   "cell_type": "code",
   "execution_count": 73,
   "id": "73662e71-0652-4de0-9f8f-1661f9358297",
   "metadata": {},
   "outputs": [],
   "source": [
    "from sklearn.model_selection import train_test_split"
   ]
  },
  {
   "cell_type": "code",
   "execution_count": 75,
   "id": "77749221-d8ad-4944-86f4-2d40457ef9f5",
   "metadata": {},
   "outputs": [],
   "source": [
    "x_train, x_test, y_train, y_test = train_test_split(x,y,test_size=0.3)"
   ]
  },
  {
   "cell_type": "code",
   "execution_count": 79,
   "id": "4f5bcfba-6b69-4e8f-b9f5-34e2f2bca939",
   "metadata": {},
   "outputs": [],
   "source": [
    "from sklearn.feature_extraction.text import TfidfVectorizer"
   ]
  },
  {
   "cell_type": "code",
   "execution_count": 83,
   "id": "faffa31a-c273-4732-b937-32ce8856ea40",
   "metadata": {},
   "outputs": [],
   "source": [
    "vectorization = TfidfVectorizer()"
   ]
  },
  {
   "cell_type": "code",
   "execution_count": 85,
   "id": "54aea3e6-74f8-45f8-8fe6-4cc7e917ae32",
   "metadata": {},
   "outputs": [],
   "source": [
    "xv_train = vectorization.fit_transform(x_train)"
   ]
  },
  {
   "cell_type": "code",
   "execution_count": 87,
   "id": "d84b1293-49e0-46d1-8dae-a10191ead5ee",
   "metadata": {},
   "outputs": [],
   "source": [
    "xv_test = vectorization.transform(x_test)"
   ]
  },
  {
   "cell_type": "code",
   "execution_count": 117,
   "id": "e6b7fd54-860e-49f2-ab7f-c1065159b05e",
   "metadata": {},
   "outputs": [],
   "source": [
    "from sklearn.tree import DecisionTreeClassifier\n",
    "from sklearn.metrics import classification_report, confusion_matrix"
   ]
  },
  {
   "cell_type": "code",
   "execution_count": 103,
   "id": "dee2cf07-9a66-4f5b-b1f3-92d1904fa8dd",
   "metadata": {},
   "outputs": [],
   "source": [
    "DTC = DecisionTreeClassifier()"
   ]
  },
  {
   "cell_type": "code",
   "execution_count": 105,
   "id": "14e4e633-2780-4a84-b741-41f3371c9c7b",
   "metadata": {},
   "outputs": [
    {
     "data": {
      "text/html": [
       "<style>#sk-container-id-2 {\n",
       "  /* Definition of color scheme common for light and dark mode */\n",
       "  --sklearn-color-text: black;\n",
       "  --sklearn-color-line: gray;\n",
       "  /* Definition of color scheme for unfitted estimators */\n",
       "  --sklearn-color-unfitted-level-0: #fff5e6;\n",
       "  --sklearn-color-unfitted-level-1: #f6e4d2;\n",
       "  --sklearn-color-unfitted-level-2: #ffe0b3;\n",
       "  --sklearn-color-unfitted-level-3: chocolate;\n",
       "  /* Definition of color scheme for fitted estimators */\n",
       "  --sklearn-color-fitted-level-0: #f0f8ff;\n",
       "  --sklearn-color-fitted-level-1: #d4ebff;\n",
       "  --sklearn-color-fitted-level-2: #b3dbfd;\n",
       "  --sklearn-color-fitted-level-3: cornflowerblue;\n",
       "\n",
       "  /* Specific color for light theme */\n",
       "  --sklearn-color-text-on-default-background: var(--sg-text-color, var(--theme-code-foreground, var(--jp-content-font-color1, black)));\n",
       "  --sklearn-color-background: var(--sg-background-color, var(--theme-background, var(--jp-layout-color0, white)));\n",
       "  --sklearn-color-border-box: var(--sg-text-color, var(--theme-code-foreground, var(--jp-content-font-color1, black)));\n",
       "  --sklearn-color-icon: #696969;\n",
       "\n",
       "  @media (prefers-color-scheme: dark) {\n",
       "    /* Redefinition of color scheme for dark theme */\n",
       "    --sklearn-color-text-on-default-background: var(--sg-text-color, var(--theme-code-foreground, var(--jp-content-font-color1, white)));\n",
       "    --sklearn-color-background: var(--sg-background-color, var(--theme-background, var(--jp-layout-color0, #111)));\n",
       "    --sklearn-color-border-box: var(--sg-text-color, var(--theme-code-foreground, var(--jp-content-font-color1, white)));\n",
       "    --sklearn-color-icon: #878787;\n",
       "  }\n",
       "}\n",
       "\n",
       "#sk-container-id-2 {\n",
       "  color: var(--sklearn-color-text);\n",
       "}\n",
       "\n",
       "#sk-container-id-2 pre {\n",
       "  padding: 0;\n",
       "}\n",
       "\n",
       "#sk-container-id-2 input.sk-hidden--visually {\n",
       "  border: 0;\n",
       "  clip: rect(1px 1px 1px 1px);\n",
       "  clip: rect(1px, 1px, 1px, 1px);\n",
       "  height: 1px;\n",
       "  margin: -1px;\n",
       "  overflow: hidden;\n",
       "  padding: 0;\n",
       "  position: absolute;\n",
       "  width: 1px;\n",
       "}\n",
       "\n",
       "#sk-container-id-2 div.sk-dashed-wrapped {\n",
       "  border: 1px dashed var(--sklearn-color-line);\n",
       "  margin: 0 0.4em 0.5em 0.4em;\n",
       "  box-sizing: border-box;\n",
       "  padding-bottom: 0.4em;\n",
       "  background-color: var(--sklearn-color-background);\n",
       "}\n",
       "\n",
       "#sk-container-id-2 div.sk-container {\n",
       "  /* jupyter's `normalize.less` sets `[hidden] { display: none; }`\n",
       "     but bootstrap.min.css set `[hidden] { display: none !important; }`\n",
       "     so we also need the `!important` here to be able to override the\n",
       "     default hidden behavior on the sphinx rendered scikit-learn.org.\n",
       "     See: https://github.com/scikit-learn/scikit-learn/issues/21755 */\n",
       "  display: inline-block !important;\n",
       "  position: relative;\n",
       "}\n",
       "\n",
       "#sk-container-id-2 div.sk-text-repr-fallback {\n",
       "  display: none;\n",
       "}\n",
       "\n",
       "div.sk-parallel-item,\n",
       "div.sk-serial,\n",
       "div.sk-item {\n",
       "  /* draw centered vertical line to link estimators */\n",
       "  background-image: linear-gradient(var(--sklearn-color-text-on-default-background), var(--sklearn-color-text-on-default-background));\n",
       "  background-size: 2px 100%;\n",
       "  background-repeat: no-repeat;\n",
       "  background-position: center center;\n",
       "}\n",
       "\n",
       "/* Parallel-specific style estimator block */\n",
       "\n",
       "#sk-container-id-2 div.sk-parallel-item::after {\n",
       "  content: \"\";\n",
       "  width: 100%;\n",
       "  border-bottom: 2px solid var(--sklearn-color-text-on-default-background);\n",
       "  flex-grow: 1;\n",
       "}\n",
       "\n",
       "#sk-container-id-2 div.sk-parallel {\n",
       "  display: flex;\n",
       "  align-items: stretch;\n",
       "  justify-content: center;\n",
       "  background-color: var(--sklearn-color-background);\n",
       "  position: relative;\n",
       "}\n",
       "\n",
       "#sk-container-id-2 div.sk-parallel-item {\n",
       "  display: flex;\n",
       "  flex-direction: column;\n",
       "}\n",
       "\n",
       "#sk-container-id-2 div.sk-parallel-item:first-child::after {\n",
       "  align-self: flex-end;\n",
       "  width: 50%;\n",
       "}\n",
       "\n",
       "#sk-container-id-2 div.sk-parallel-item:last-child::after {\n",
       "  align-self: flex-start;\n",
       "  width: 50%;\n",
       "}\n",
       "\n",
       "#sk-container-id-2 div.sk-parallel-item:only-child::after {\n",
       "  width: 0;\n",
       "}\n",
       "\n",
       "/* Serial-specific style estimator block */\n",
       "\n",
       "#sk-container-id-2 div.sk-serial {\n",
       "  display: flex;\n",
       "  flex-direction: column;\n",
       "  align-items: center;\n",
       "  background-color: var(--sklearn-color-background);\n",
       "  padding-right: 1em;\n",
       "  padding-left: 1em;\n",
       "}\n",
       "\n",
       "\n",
       "/* Toggleable style: style used for estimator/Pipeline/ColumnTransformer box that is\n",
       "clickable and can be expanded/collapsed.\n",
       "- Pipeline and ColumnTransformer use this feature and define the default style\n",
       "- Estimators will overwrite some part of the style using the `sk-estimator` class\n",
       "*/\n",
       "\n",
       "/* Pipeline and ColumnTransformer style (default) */\n",
       "\n",
       "#sk-container-id-2 div.sk-toggleable {\n",
       "  /* Default theme specific background. It is overwritten whether we have a\n",
       "  specific estimator or a Pipeline/ColumnTransformer */\n",
       "  background-color: var(--sklearn-color-background);\n",
       "}\n",
       "\n",
       "/* Toggleable label */\n",
       "#sk-container-id-2 label.sk-toggleable__label {\n",
       "  cursor: pointer;\n",
       "  display: block;\n",
       "  width: 100%;\n",
       "  margin-bottom: 0;\n",
       "  padding: 0.5em;\n",
       "  box-sizing: border-box;\n",
       "  text-align: center;\n",
       "}\n",
       "\n",
       "#sk-container-id-2 label.sk-toggleable__label-arrow:before {\n",
       "  /* Arrow on the left of the label */\n",
       "  content: \"▸\";\n",
       "  float: left;\n",
       "  margin-right: 0.25em;\n",
       "  color: var(--sklearn-color-icon);\n",
       "}\n",
       "\n",
       "#sk-container-id-2 label.sk-toggleable__label-arrow:hover:before {\n",
       "  color: var(--sklearn-color-text);\n",
       "}\n",
       "\n",
       "/* Toggleable content - dropdown */\n",
       "\n",
       "#sk-container-id-2 div.sk-toggleable__content {\n",
       "  max-height: 0;\n",
       "  max-width: 0;\n",
       "  overflow: hidden;\n",
       "  text-align: left;\n",
       "  /* unfitted */\n",
       "  background-color: var(--sklearn-color-unfitted-level-0);\n",
       "}\n",
       "\n",
       "#sk-container-id-2 div.sk-toggleable__content.fitted {\n",
       "  /* fitted */\n",
       "  background-color: var(--sklearn-color-fitted-level-0);\n",
       "}\n",
       "\n",
       "#sk-container-id-2 div.sk-toggleable__content pre {\n",
       "  margin: 0.2em;\n",
       "  border-radius: 0.25em;\n",
       "  color: var(--sklearn-color-text);\n",
       "  /* unfitted */\n",
       "  background-color: var(--sklearn-color-unfitted-level-0);\n",
       "}\n",
       "\n",
       "#sk-container-id-2 div.sk-toggleable__content.fitted pre {\n",
       "  /* unfitted */\n",
       "  background-color: var(--sklearn-color-fitted-level-0);\n",
       "}\n",
       "\n",
       "#sk-container-id-2 input.sk-toggleable__control:checked~div.sk-toggleable__content {\n",
       "  /* Expand drop-down */\n",
       "  max-height: 200px;\n",
       "  max-width: 100%;\n",
       "  overflow: auto;\n",
       "}\n",
       "\n",
       "#sk-container-id-2 input.sk-toggleable__control:checked~label.sk-toggleable__label-arrow:before {\n",
       "  content: \"▾\";\n",
       "}\n",
       "\n",
       "/* Pipeline/ColumnTransformer-specific style */\n",
       "\n",
       "#sk-container-id-2 div.sk-label input.sk-toggleable__control:checked~label.sk-toggleable__label {\n",
       "  color: var(--sklearn-color-text);\n",
       "  background-color: var(--sklearn-color-unfitted-level-2);\n",
       "}\n",
       "\n",
       "#sk-container-id-2 div.sk-label.fitted input.sk-toggleable__control:checked~label.sk-toggleable__label {\n",
       "  background-color: var(--sklearn-color-fitted-level-2);\n",
       "}\n",
       "\n",
       "/* Estimator-specific style */\n",
       "\n",
       "/* Colorize estimator box */\n",
       "#sk-container-id-2 div.sk-estimator input.sk-toggleable__control:checked~label.sk-toggleable__label {\n",
       "  /* unfitted */\n",
       "  background-color: var(--sklearn-color-unfitted-level-2);\n",
       "}\n",
       "\n",
       "#sk-container-id-2 div.sk-estimator.fitted input.sk-toggleable__control:checked~label.sk-toggleable__label {\n",
       "  /* fitted */\n",
       "  background-color: var(--sklearn-color-fitted-level-2);\n",
       "}\n",
       "\n",
       "#sk-container-id-2 div.sk-label label.sk-toggleable__label,\n",
       "#sk-container-id-2 div.sk-label label {\n",
       "  /* The background is the default theme color */\n",
       "  color: var(--sklearn-color-text-on-default-background);\n",
       "}\n",
       "\n",
       "/* On hover, darken the color of the background */\n",
       "#sk-container-id-2 div.sk-label:hover label.sk-toggleable__label {\n",
       "  color: var(--sklearn-color-text);\n",
       "  background-color: var(--sklearn-color-unfitted-level-2);\n",
       "}\n",
       "\n",
       "/* Label box, darken color on hover, fitted */\n",
       "#sk-container-id-2 div.sk-label.fitted:hover label.sk-toggleable__label.fitted {\n",
       "  color: var(--sklearn-color-text);\n",
       "  background-color: var(--sklearn-color-fitted-level-2);\n",
       "}\n",
       "\n",
       "/* Estimator label */\n",
       "\n",
       "#sk-container-id-2 div.sk-label label {\n",
       "  font-family: monospace;\n",
       "  font-weight: bold;\n",
       "  display: inline-block;\n",
       "  line-height: 1.2em;\n",
       "}\n",
       "\n",
       "#sk-container-id-2 div.sk-label-container {\n",
       "  text-align: center;\n",
       "}\n",
       "\n",
       "/* Estimator-specific */\n",
       "#sk-container-id-2 div.sk-estimator {\n",
       "  font-family: monospace;\n",
       "  border: 1px dotted var(--sklearn-color-border-box);\n",
       "  border-radius: 0.25em;\n",
       "  box-sizing: border-box;\n",
       "  margin-bottom: 0.5em;\n",
       "  /* unfitted */\n",
       "  background-color: var(--sklearn-color-unfitted-level-0);\n",
       "}\n",
       "\n",
       "#sk-container-id-2 div.sk-estimator.fitted {\n",
       "  /* fitted */\n",
       "  background-color: var(--sklearn-color-fitted-level-0);\n",
       "}\n",
       "\n",
       "/* on hover */\n",
       "#sk-container-id-2 div.sk-estimator:hover {\n",
       "  /* unfitted */\n",
       "  background-color: var(--sklearn-color-unfitted-level-2);\n",
       "}\n",
       "\n",
       "#sk-container-id-2 div.sk-estimator.fitted:hover {\n",
       "  /* fitted */\n",
       "  background-color: var(--sklearn-color-fitted-level-2);\n",
       "}\n",
       "\n",
       "/* Specification for estimator info (e.g. \"i\" and \"?\") */\n",
       "\n",
       "/* Common style for \"i\" and \"?\" */\n",
       "\n",
       ".sk-estimator-doc-link,\n",
       "a:link.sk-estimator-doc-link,\n",
       "a:visited.sk-estimator-doc-link {\n",
       "  float: right;\n",
       "  font-size: smaller;\n",
       "  line-height: 1em;\n",
       "  font-family: monospace;\n",
       "  background-color: var(--sklearn-color-background);\n",
       "  border-radius: 1em;\n",
       "  height: 1em;\n",
       "  width: 1em;\n",
       "  text-decoration: none !important;\n",
       "  margin-left: 1ex;\n",
       "  /* unfitted */\n",
       "  border: var(--sklearn-color-unfitted-level-1) 1pt solid;\n",
       "  color: var(--sklearn-color-unfitted-level-1);\n",
       "}\n",
       "\n",
       ".sk-estimator-doc-link.fitted,\n",
       "a:link.sk-estimator-doc-link.fitted,\n",
       "a:visited.sk-estimator-doc-link.fitted {\n",
       "  /* fitted */\n",
       "  border: var(--sklearn-color-fitted-level-1) 1pt solid;\n",
       "  color: var(--sklearn-color-fitted-level-1);\n",
       "}\n",
       "\n",
       "/* On hover */\n",
       "div.sk-estimator:hover .sk-estimator-doc-link:hover,\n",
       ".sk-estimator-doc-link:hover,\n",
       "div.sk-label-container:hover .sk-estimator-doc-link:hover,\n",
       ".sk-estimator-doc-link:hover {\n",
       "  /* unfitted */\n",
       "  background-color: var(--sklearn-color-unfitted-level-3);\n",
       "  color: var(--sklearn-color-background);\n",
       "  text-decoration: none;\n",
       "}\n",
       "\n",
       "div.sk-estimator.fitted:hover .sk-estimator-doc-link.fitted:hover,\n",
       ".sk-estimator-doc-link.fitted:hover,\n",
       "div.sk-label-container:hover .sk-estimator-doc-link.fitted:hover,\n",
       ".sk-estimator-doc-link.fitted:hover {\n",
       "  /* fitted */\n",
       "  background-color: var(--sklearn-color-fitted-level-3);\n",
       "  color: var(--sklearn-color-background);\n",
       "  text-decoration: none;\n",
       "}\n",
       "\n",
       "/* Span, style for the box shown on hovering the info icon */\n",
       ".sk-estimator-doc-link span {\n",
       "  display: none;\n",
       "  z-index: 9999;\n",
       "  position: relative;\n",
       "  font-weight: normal;\n",
       "  right: .2ex;\n",
       "  padding: .5ex;\n",
       "  margin: .5ex;\n",
       "  width: min-content;\n",
       "  min-width: 20ex;\n",
       "  max-width: 50ex;\n",
       "  color: var(--sklearn-color-text);\n",
       "  box-shadow: 2pt 2pt 4pt #999;\n",
       "  /* unfitted */\n",
       "  background: var(--sklearn-color-unfitted-level-0);\n",
       "  border: .5pt solid var(--sklearn-color-unfitted-level-3);\n",
       "}\n",
       "\n",
       ".sk-estimator-doc-link.fitted span {\n",
       "  /* fitted */\n",
       "  background: var(--sklearn-color-fitted-level-0);\n",
       "  border: var(--sklearn-color-fitted-level-3);\n",
       "}\n",
       "\n",
       ".sk-estimator-doc-link:hover span {\n",
       "  display: block;\n",
       "}\n",
       "\n",
       "/* \"?\"-specific style due to the `<a>` HTML tag */\n",
       "\n",
       "#sk-container-id-2 a.estimator_doc_link {\n",
       "  float: right;\n",
       "  font-size: 1rem;\n",
       "  line-height: 1em;\n",
       "  font-family: monospace;\n",
       "  background-color: var(--sklearn-color-background);\n",
       "  border-radius: 1rem;\n",
       "  height: 1rem;\n",
       "  width: 1rem;\n",
       "  text-decoration: none;\n",
       "  /* unfitted */\n",
       "  color: var(--sklearn-color-unfitted-level-1);\n",
       "  border: var(--sklearn-color-unfitted-level-1) 1pt solid;\n",
       "}\n",
       "\n",
       "#sk-container-id-2 a.estimator_doc_link.fitted {\n",
       "  /* fitted */\n",
       "  border: var(--sklearn-color-fitted-level-1) 1pt solid;\n",
       "  color: var(--sklearn-color-fitted-level-1);\n",
       "}\n",
       "\n",
       "/* On hover */\n",
       "#sk-container-id-2 a.estimator_doc_link:hover {\n",
       "  /* unfitted */\n",
       "  background-color: var(--sklearn-color-unfitted-level-3);\n",
       "  color: var(--sklearn-color-background);\n",
       "  text-decoration: none;\n",
       "}\n",
       "\n",
       "#sk-container-id-2 a.estimator_doc_link.fitted:hover {\n",
       "  /* fitted */\n",
       "  background-color: var(--sklearn-color-fitted-level-3);\n",
       "}\n",
       "</style><div id=\"sk-container-id-2\" class=\"sk-top-container\"><div class=\"sk-text-repr-fallback\"><pre>DecisionTreeClassifier()</pre><b>In a Jupyter environment, please rerun this cell to show the HTML representation or trust the notebook. <br />On GitHub, the HTML representation is unable to render, please try loading this page with nbviewer.org.</b></div><div class=\"sk-container\" hidden><div class=\"sk-item\"><div class=\"sk-estimator fitted sk-toggleable\"><input class=\"sk-toggleable__control sk-hidden--visually\" id=\"sk-estimator-id-2\" type=\"checkbox\" checked><label for=\"sk-estimator-id-2\" class=\"sk-toggleable__label fitted sk-toggleable__label-arrow fitted\">&nbsp;&nbsp;DecisionTreeClassifier<a class=\"sk-estimator-doc-link fitted\" rel=\"noreferrer\" target=\"_blank\" href=\"https://scikit-learn.org/1.4/modules/generated/sklearn.tree.DecisionTreeClassifier.html\">?<span>Documentation for DecisionTreeClassifier</span></a><span class=\"sk-estimator-doc-link fitted\">i<span>Fitted</span></span></label><div class=\"sk-toggleable__content fitted\"><pre>DecisionTreeClassifier()</pre></div> </div></div></div></div>"
      ],
      "text/plain": [
       "DecisionTreeClassifier()"
      ]
     },
     "execution_count": 105,
     "metadata": {},
     "output_type": "execute_result"
    }
   ],
   "source": [
    "DTC.fit(xv_train, y_train)"
   ]
  },
  {
   "cell_type": "code",
   "execution_count": 107,
   "id": "f452a352-29f7-4eb0-abaa-b611bae14a44",
   "metadata": {},
   "outputs": [],
   "source": [
    "predict_dtc = DTC.predict(xv_test)"
   ]
  },
  {
   "cell_type": "code",
   "execution_count": 109,
   "id": "cb629209-e46d-4843-b133-c463bc378d83",
   "metadata": {},
   "outputs": [
    {
     "data": {
      "text/plain": [
       "0.9968819599109131"
      ]
     },
     "execution_count": 109,
     "metadata": {},
     "output_type": "execute_result"
    }
   ],
   "source": [
    "DTC.score(xv_test, y_test)"
   ]
  },
  {
   "cell_type": "code",
   "execution_count": 115,
   "id": "d91497a9-f08a-4a2d-9828-9ed2b9cf3c63",
   "metadata": {},
   "outputs": [
    {
     "name": "stdout",
     "output_type": "stream",
     "text": [
      "              precision    recall  f1-score   support\n",
      "\n",
      "           0       1.00      1.00      1.00      7035\n",
      "           1       1.00      1.00      1.00      6435\n",
      "\n",
      "    accuracy                           1.00     13470\n",
      "   macro avg       1.00      1.00      1.00     13470\n",
      "weighted avg       1.00      1.00      1.00     13470\n",
      "\n"
     ]
    }
   ],
   "source": [
    "print(classification_report(y_test, predict_dtc))"
   ]
  },
  {
   "cell_type": "code",
   "execution_count": 119,
   "id": "95cca119-0a0f-4392-9353-45e245a7063b",
   "metadata": {},
   "outputs": [
    {
     "name": "stdout",
     "output_type": "stream",
     "text": [
      "Confusion Matrix:\n",
      " [[7018   17]\n",
      " [  25 6410]]\n"
     ]
    }
   ],
   "source": [
    "conf_matrix = confusion_matrix(y_test, predict_dtc)\n",
    "print(\"Confusion Matrix:\\n\", conf_matrix)"
   ]
  },
  {
   "cell_type": "code",
   "execution_count": 121,
   "id": "c4ce30ee-de3b-4b2a-88e5-4fa889cb3431",
   "metadata": {},
   "outputs": [],
   "source": [
    "def output_label(n):\n",
    "    if n == 0:\n",
    "        return \"Its A Fake News\"\n",
    "    elif n == 1:\n",
    "        return \"Its A Genuine News\""
   ]
  },
  {
   "cell_type": "code",
   "execution_count": 129,
   "id": "0e30ccb9-b96d-45bb-841d-86be0097ff59",
   "metadata": {},
   "outputs": [],
   "source": [
    "def manual_testing(news):\n",
    "    testing_news = {\"text\": [news]}\n",
    "    new_def_test = pd.DataFrame(testing_news)\n",
    "    new_def_test[\"text\"] = new_def_test[\"text\"].apply(wordopt)\n",
    "    new_x_test = new_def_test[\"text\"]\n",
    "    new_xv_test = vectorization.transform(new_x_test)\n",
    "    predict_dtc = DTC.predict(xv_test)\n",
    "    return \"\\nDTC Prediction: {}\".format(output_label(predict_dtc[0]))"
   ]
  },
  {
   "cell_type": "code",
   "execution_count": 131,
   "id": "37ec95d2-d2ee-49a7-98cc-10c8fa689dce",
   "metadata": {},
   "outputs": [
    {
     "name": "stdin",
     "output_type": "stream",
     "text": [
      " Teenage footballers listen to the Russian national anthem before a match. Nearby, artists paint Russian President Vladimir Putin’s portrait on a wall during a graffiti festival.  Welcome to Burkina Faso, one of the African nations where Russia is boosting its operations to gain influence.  Evidence found by the BBC shows that Russia is using media and cultural initiatives to attract African journalists, influencers, and students while spreading misleading information.  These events are being promoted by African Initiative, a newly founded Russian media organisation which defines itself as an “information bridge between Russia and Africa”. It inherited structures previously set up by the dismantled Wagner mercenary group and is believed by experts to have links with the Russian security services.  Registered in September 2023, a month after Wagner’s leader Yevgeny Prigozhin died in a plane crash, African Initiative has welcomed former employees from his disbanded enterprises.  Its efforts have been particularly focused on the three military-run countries of Mali, Niger and Burkina Faso.  Following recent coups, these West African nations have distanced themselves from Western allies like France, criticising their failed interventions against jihadist groups and colonial legacies. They have instead pivoted towards Russia.  Alongside cultural events on the ground, African Initiative maintains a news website with stories in Russian, English, French, and Arabic, as well as a video channel and five Telegram channels, one of which has almost 60,000 subscribers.  Some of the Telegram channels were “recycled” from older ones which had been set up by groups linked to Wagner. They were the first to promote the Russian Defence Ministry's paramilitary group Africa Corps, which has effectively replaced the military wing of Wagner in West Africa.  Pro-Kremlin narratives and misleading information, especially about the United States, are rife.  Stories on the African Initiative’s website suggest without evidence that the US is using Africa as a production and testing ground for bio-weapons, building on long-discredited Kremlin disinformation campaigns.  One story echoes the Kremlin’s unsubstantiated claims about US bio-labs being relocated from Ukraine to Africa. Another maintains without evidence that US bio-labs on the continent are increasing, claiming that “under the guise of research and humanitarian projects, the African continent is becoming a testing ground for the Pentagon”, suggesting that secretive biological experiments are being conducted.  While Prigozhin’s propaganda efforts targeted mainly France, African Initiative “targets Americans to a greater degree,” says researcher Jedrzej Czerep, head of the Middle East and Africa Programme at the Polish Institute of International Affairs. “It’s far more anti-American.”  Russdiary (Telegram channel) A Ghanaian journalist, Ivy Setordjie, published a series of reports in which she refers to Russian-occupied towns in Ukraine as ‘conflict zones in Russia’Russdiary (Telegram channel) A Ghanaian journalist, Ivy Setordjie, published a series of reports in which she refers to Russian-occupied towns in Ukraine as \"conflict zones in Russia\" In June, a group of bloggers and reporters from eight countries were invited for a seven-day “press tour” of the Russian-occupied areas of Ukraine. The trip was organised by Russian state media and Western-sanctioned Russian officials, and the journalists visited African Initiative’s headquarters in Moscow.  \"Africa wasn’t getting much information [about the war],\" Raymond Agbadi, a Ghanaian blogger and scientist who studied in Russia and who participated in the “press tour”, told the BBC. \"Whatever information we were getting was not convincing enough for us to understand what the war was really about.”  American influencer Jackson Hinkle, a vocal supporter of Russian President Vladimir Putin who has spread multiple false claims about Ukraine, was also on the visit.  After visiting Moscow, the journalists travelled 1,250km (780 miles) to the Ukrainian port city of Mariupol in the Donetsk region. Then they went to towns in the Zaporizhzhia region – all areas which were captured by Russia early in its full-scale invasion of Ukraine.  Throughout the visit, the reporters were accompanied by Russian officials and travelled with the Russian military in vehicles marked with the Z sign – the symbol of Russia's invasion of Ukraine.  In May, African Initiative organised a separate “press tour” to Russian-occupied Mariupol for a delegation of bloggers from Mali.  Press trips for journalists are a widely used tool to attempt to sell a country’s viewpoints. But while “Western media does a lot of progressive training [for journalists] to report on key topics which have become global concerns, Russia uses these guided tours as a way of propagating certain narratives,” says Beverly Ochieng, senior analyst at Control Risks and the Centre for Strategic and International Studies, noting that China organises similar tours.  Having African journalists report on their trips gives an “impression of authenticity” because they “reach out to the audience on languages they recognise”, rather than looking like it is part of “a wider campaign used to portray Russia in a positive light,” says Ms Ochieng.  In stories published since the trip, the African journalists refer to the Ukrainian cities occupied by Russian forces as \"conflict zones in Russia\" and quote Russian-installed authorities, echoing Russian state propaganda and presenting the Kremlin’s view of Ukraine’s borders.  In a piece published on JoyOnline, an English-speaking website operated by the Multimedia Group, Ghanaian journalist Ivy Setordjie writes that the Ukrainian Zaporizhzhia region [whose capital is under Ukrainian control], is \"located in the south of European Russia.\"  She tells the BBC she disagrees that the regions were illegally annexed by Russia, affirming that her reports are reflections of her own judgement and “not tilted towards” the country.  mariupol-news.ru Journalists is pictured on a tour of an occupied region of Ukrainemariupol-news.ru African journalists were taken on a seven-day tour of the occupied regions of Ukraine Beyond press tours, local affiliates of African Initiative in West Africa's Sahel region have been actively involved in community outreach efforts aimed at boosting Russia’s image.  The BBC has been monitoring African Initiative’s Telegram channels and Facebook pages, where videos, images, and reports of their work on the ground are shared.  In Burkina Faso, we found reports about a football competition where the Russian national anthem was played, “friendship lessons” in schools where students are taught about Russia, a competition of the Soviet martial art “sambo”, first aid workshops for citizens and policemen, and a graffiti festival where participants drew Russian President Vladimir Putin alongside Burkina Faso’s former leader Thomas Sankara, all sponsored by African Initiative.  Images also show African Initiative members distributing groceries to locals and neighbourhood screenings of the Wagner-backed documentary The Tourist, about a group of Wagner instructors in the Central Africa Republic, where Wagner and its offshoots have been helping the government fight rebels for several years.  “The original idea with the Africa Corps was to erase whatever military structures Prigozhin had developed and to replace it with something new. African Initiative, often serving as its media wing, was more accommodating and happy to reuse all assets that were already there,” says researcher Mr Czerep from the Polish Institute of International Affairs.  The FSB, the Russian Federal Security Service, plays an important part in the new organisation, he notes. The head and editor-in-chief of African Initiative is Artyom Kureyev, identified by Russia experts as a Russian Federal Security Service agent. Mr Kureyev is linked to the Valdai Club, a Moscow-based think-tank close to President Putin.  African Initiative’s website lists Anna Zamaraeva, a former Wagner press officer, as deputy editor-in-chief.  A graphic map showing African Initiative activities in the Sahel. Viktor Lukovenko, known as one of Prigozhin’s “political technologists,” founded the Burkina Faso office of the African Initiative but left the position in recent months. A former Russian nationalist with a criminal past, Mr Lukovenko served five years in prison for an attack in Moscow on a Swiss citizen who later died.  We reached out to African Initiative for comment. Its office in Moscow confirmed it had received our queries but its response did not reach us by email. The African Initiative reacted to the BBC story in an article on its website, quoting a response it said it had sent to the BBC.  The organisation said its “humanitarian activities in the Sahel, such as the football competition” aimed to “improve Russian football and recruit new players” and the goal of film screenings and school lessons is to introduce the people of Africa to “the great Russian culture”.  The organisation reiterated and defended the stories which were highlighted by the BBC as misleading, however it didn’t provide any new evidence. It referenced the Russian constitution and Russian laws as the justification for its terminology when referring to areas of occupied Ukraine as Russian territory.  In February, in response to a report by the US Department of State, an article on African Initiative’s website stated that its editorial board “insists that its purpose is to spread knowledge about Africa in Russia and popularise Russia in African countries”, giving “various Africans an opportunity to be heard, including their criticisms of Western countries”.  Meanwhile, the organisation continues intensifying its outreach in the Sahel. In the last week of August, about 100 students in Burkina Faso attended a talk about training opportunities in Russia.  \"I learned about the culture of Russia and the relation between our governments,\" said a smiling teenager wearing a T-shirt with an African Initiative logo in a video recorded after the discussion.  Update 12 September: We have updated this article with comment from Africa Initiative\n"
     ]
    }
   ],
   "source": [
    "news_article = str(input())"
   ]
  },
  {
   "cell_type": "code",
   "execution_count": 133,
   "id": "eee0f714-ca10-4584-bb56-7952432c46b1",
   "metadata": {},
   "outputs": [
    {
     "data": {
      "text/plain": [
       "'\\nDTC Prediction: Its A Fake News'"
      ]
     },
     "execution_count": 133,
     "metadata": {},
     "output_type": "execute_result"
    }
   ],
   "source": [
    "manual_testing(news_article)"
   ]
  },
  {
   "cell_type": "code",
   "execution_count": 135,
   "id": "8aa9f011-e649-40ee-b735-24ca35c7204e",
   "metadata": {},
   "outputs": [],
   "source": [
    "import joblib"
   ]
  },
  {
   "cell_type": "code",
   "execution_count": 137,
   "id": "cf7b4df9-5696-406c-a47b-3b644effb847",
   "metadata": {},
   "outputs": [
    {
     "data": {
      "text/plain": [
       "['decision_tree_model.pkl']"
      ]
     },
     "execution_count": 137,
     "metadata": {},
     "output_type": "execute_result"
    }
   ],
   "source": [
    "joblib.dump(DTC, 'decision_tree_model.pkl')"
   ]
  },
  {
   "cell_type": "code",
   "execution_count": 139,
   "id": "f6b7db58-51e5-46a3-b87b-14fa2246447d",
   "metadata": {},
   "outputs": [
    {
     "data": {
      "text/plain": [
       "['tfidf_vectorizer.pkl']"
      ]
     },
     "execution_count": 139,
     "metadata": {},
     "output_type": "execute_result"
    }
   ],
   "source": [
    "joblib.dump(vectorization, 'tfidf_vectorizer.pkl')"
   ]
  },
  {
   "cell_type": "code",
   "execution_count": null,
   "id": "2557894b-0c56-4a8c-9439-cd548ee524d8",
   "metadata": {},
   "outputs": [],
   "source": []
  }
 ],
 "metadata": {
  "kernelspec": {
   "display_name": "Python 3 (ipykernel)",
   "language": "python",
   "name": "python3"
  },
  "language_info": {
   "codemirror_mode": {
    "name": "ipython",
    "version": 3
   },
   "file_extension": ".py",
   "mimetype": "text/x-python",
   "name": "python",
   "nbconvert_exporter": "python",
   "pygments_lexer": "ipython3",
   "version": "3.12.3"
  }
 },
 "nbformat": 4,
 "nbformat_minor": 5
}
